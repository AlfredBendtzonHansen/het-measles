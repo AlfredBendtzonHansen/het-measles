{
 "cells": [
  {
   "cell_type": "code",
   "execution_count": 23,
   "metadata": {},
   "outputs": [
    {
     "name": "stderr",
     "output_type": "stream",
     "text": [
      "100%|██████████| 1000/1000 [00:08<00:00, 118.47it/s]\n"
     ]
    },
    {
     "data": {
      "text/plain": [
       "(array([459.,   5.,   2.,   3.,   6.,  24., 146., 240., 110.,   5.]),\n",
       " array([0.01 , 0.085, 0.16 , 0.235, 0.31 , 0.385, 0.46 , 0.535, 0.61 ,\n",
       "        0.685, 0.76 ]),\n",
       " <BarContainer object of 10 artists>)"
      ]
     },
     "execution_count": 23,
     "metadata": {},
     "output_type": "execute_result"
    },
    {
     "data": {
      "image/png": "[encoded data removed]",
      "text/plain": [
       "<Figure size 640x480 with 1 Axes>"
      ]
     },
     "metadata": {},
     "output_type": "display_data"
    }
   ],
   "source": [
    "import networkx as nx\n",
    "import random\n",
    "from collections import deque\n",
    "from tqdm import tqdm\n",
    "\n",
    "# Step 2: Perform dynamic percolation that stops when s nodes are percolated\n",
    "def percolate_graph(G, p_m, s):\n",
    "    \"\"\"\n",
    "    Performs dynamic percolation on graph G with transmission probability p_m,\n",
    "    starting from a random node, and stops when s nodes have been percolated.\n",
    "    \"\"\"\n",
    "    if s <= 0 or G.number_of_nodes() == 0:\n",
    "        return nx.Graph()\n",
    "    \n",
    "    percolated_nodes = set()\n",
    "    initial_node = random.choice(list(G.nodes()))\n",
    "    percolated_nodes.add(initial_node)\n",
    "    queue = deque([initial_node])\n",
    "    \n",
    "    while queue and len(percolated_nodes) < s:\n",
    "        current_node = queue.popleft()\n",
    "        for neighbor in G.neighbors(current_node):\n",
    "            if neighbor not in percolated_nodes and random.random() < p_m:\n",
    "                percolated_nodes.add(neighbor)\n",
    "                queue.append(neighbor)\n",
    "                if len(percolated_nodes) >= s:\n",
    "                    break  # Stop if we've reached s nodes\n",
    "    G_perc = G.subgraph(percolated_nodes).copy()\n",
    "    return G_perc\n",
    "\n",
    "G_perc = percolate_graph(G, p_m, s)\n",
    "\n",
    "# Step 3: Use the percolated graph as the susceptible subgraph\n",
    "G_susceptible = G_perc\n",
    "\n",
    "# Step 4: Simulate the epidemic on the susceptible subgraph\n",
    "def simulate_epidemic(G, p_i):\n",
    "    \"\"\"\n",
    "    Simulates an epidemic on graph G with infection probability p_i.\n",
    "    \"\"\"\n",
    "    if G.number_of_nodes() == 0:\n",
    "        return set()\n",
    "    \n",
    "    susceptible = set(G.nodes())\n",
    "    infected = set()\n",
    "    initial_node = random.choice(list(G.nodes()))\n",
    "    infected.add(initial_node)\n",
    "    susceptible.remove(initial_node)\n",
    "    queue = deque([initial_node])\n",
    "\n",
    "    while queue:\n",
    "        current_node = queue.popleft()\n",
    "        for neighbor in G.neighbors(current_node):\n",
    "            if neighbor in susceptible and random.random() < p_i:\n",
    "                susceptible.remove(neighbor)\n",
    "                infected.add(neighbor)\n",
    "                queue.append(neighbor)\n",
    "    return infected\n",
    "\n",
    "def fs_epi(n, m, p, p_m, p_i, s, N):\n",
    "    \"\"\"\n",
    "    Parameters\n",
    "    n:      Number of nodes in the network\n",
    "    m:      Each new node attaches to m existing nodes\n",
    "    p:      Probability of creating a triangle after adding a random edge\n",
    "    p_m:    Probability for meta-infection (percolation)\n",
    "    p_i:    Probability for epidemic infection\n",
    "    s:      Maximum number of nodes to percolate\n",
    "    \"\"\"\n",
    "    final_size = []\n",
    "    for _ in tqdm(range(N)):\n",
    "        #Generate a clustered network using the powerlaw_cluster_graph function\n",
    "        G = nx.powerlaw_cluster_graph(n, m, p)\n",
    "        #Run percolation\n",
    "        G_perc = percolate_graph(G, p_m, s)\n",
    "        infected_nodes = simulate_epidemic(G_susceptible, p_i)\n",
    "        final_size.append(len(infected_nodes)/len(G_susceptible.nodes))\n",
    "    return final_size\n",
    "\n",
    "# Parameters\n",
    "n = 1000      # Number of nodes in the network\n",
    "m = 5         # Each new node attaches to m existing nodes\n",
    "p = 0.3       # Probability of creating a triangle after adding a random edge\n",
    "p_m = 0.5     # Probability for meta-infection (perdcolation)\n",
    "p_i = 0.3     # Probability for epidemic infection\n",
    "s = 100       # Maximum number of nodes to percolate\n",
    "\n",
    "final_size = fs_epi(n, m, p, p_m, p_i, s, N = 1000)\n",
    "plt.hist(final_size)\n"
   ]
  },
  {
   "cell_type": "code",
   "execution_count": null,
   "metadata": {},
   "outputs": [],
   "source": []
  }
 ],
 "metadata": {
  "kernelspec": {
   "display_name": "Python 3",
   "language": "python",
   "name": "python3"
  },
  "language_info": {
   "codemirror_mode": {
    "name": "ipython",
    "version": 3
   },
   "file_extension": ".py",
   "mimetype": "text/x-python",
   "name": "python",
   "nbconvert_exporter": "python",
   "pygments_lexer": "ipython3",
   "version": "3.12.3"
  }
 },
 "nbformat": 4,
 "nbformat_minor": 2
}
